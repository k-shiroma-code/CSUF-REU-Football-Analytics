{
 "cells": [
  {
   "cell_type": "code",
   "execution_count": 303,
   "id": "f35e26a4-bc54-41f8-be30-c8c5cfaf45ab",
   "metadata": {},
   "outputs": [],
   "source": [
    "import pandas as pd\n",
    "import numpy as np\n",
    "import matplotlib.pyplot as plt\n",
    "import seaborn as sns\n",
    "import random\n",
    "\n",
    "from sklearn.model_selection import train_test_split\n",
    "from sklearn.utils.class_weight import compute_class_weight\n",
    "from sklearn.ensemble import RandomForestClassifier\n",
    "from sklearn.metrics import classification_report, confusion_matrix\n",
    "\n",
    "from xgboost import XGBClassifier"
   ]
  },
  {
   "cell_type": "code",
   "execution_count": 305,
   "id": "d6ae61fd-ead1-4a14-9523-e6df28f18932",
   "metadata": {},
   "outputs": [
    {
     "data": {
      "text/html": [
       "<div>\n",
       "<style scoped>\n",
       "    .dataframe tbody tr th:only-of-type {\n",
       "        vertical-align: middle;\n",
       "    }\n",
       "\n",
       "    .dataframe tbody tr th {\n",
       "        vertical-align: top;\n",
       "    }\n",
       "\n",
       "    .dataframe thead th {\n",
       "        text-align: right;\n",
       "    }\n",
       "</style>\n",
       "<table border=\"1\" class=\"dataframe\">\n",
       "  <thead>\n",
       "    <tr style=\"text-align: right;\">\n",
       "      <th></th>\n",
       "      <th>date</th>\n",
       "      <th>home_team</th>\n",
       "      <th>away_team</th>\n",
       "      <th>home_score</th>\n",
       "      <th>away_score</th>\n",
       "      <th>tournament</th>\n",
       "      <th>city</th>\n",
       "      <th>country</th>\n",
       "      <th>neutral</th>\n",
       "    </tr>\n",
       "  </thead>\n",
       "  <tbody>\n",
       "    <tr>\n",
       "      <th>0</th>\n",
       "      <td>1872-11-30</td>\n",
       "      <td>Scotland</td>\n",
       "      <td>England</td>\n",
       "      <td>0</td>\n",
       "      <td>0</td>\n",
       "      <td>Friendly</td>\n",
       "      <td>Glasgow</td>\n",
       "      <td>Scotland</td>\n",
       "      <td>False</td>\n",
       "    </tr>\n",
       "    <tr>\n",
       "      <th>1</th>\n",
       "      <td>1873-03-08</td>\n",
       "      <td>England</td>\n",
       "      <td>Scotland</td>\n",
       "      <td>4</td>\n",
       "      <td>2</td>\n",
       "      <td>Friendly</td>\n",
       "      <td>London</td>\n",
       "      <td>England</td>\n",
       "      <td>False</td>\n",
       "    </tr>\n",
       "    <tr>\n",
       "      <th>2</th>\n",
       "      <td>1874-03-07</td>\n",
       "      <td>Scotland</td>\n",
       "      <td>England</td>\n",
       "      <td>2</td>\n",
       "      <td>1</td>\n",
       "      <td>Friendly</td>\n",
       "      <td>Glasgow</td>\n",
       "      <td>Scotland</td>\n",
       "      <td>False</td>\n",
       "    </tr>\n",
       "    <tr>\n",
       "      <th>3</th>\n",
       "      <td>1875-03-06</td>\n",
       "      <td>England</td>\n",
       "      <td>Scotland</td>\n",
       "      <td>2</td>\n",
       "      <td>2</td>\n",
       "      <td>Friendly</td>\n",
       "      <td>London</td>\n",
       "      <td>England</td>\n",
       "      <td>False</td>\n",
       "    </tr>\n",
       "    <tr>\n",
       "      <th>4</th>\n",
       "      <td>1876-03-04</td>\n",
       "      <td>Scotland</td>\n",
       "      <td>England</td>\n",
       "      <td>3</td>\n",
       "      <td>0</td>\n",
       "      <td>Friendly</td>\n",
       "      <td>Glasgow</td>\n",
       "      <td>Scotland</td>\n",
       "      <td>False</td>\n",
       "    </tr>\n",
       "  </tbody>\n",
       "</table>\n",
       "</div>"
      ],
      "text/plain": [
       "        date home_team away_team  home_score  away_score tournament     city  \\\n",
       "0 1872-11-30  Scotland   England           0           0   Friendly  Glasgow   \n",
       "1 1873-03-08   England  Scotland           4           2   Friendly   London   \n",
       "2 1874-03-07  Scotland   England           2           1   Friendly  Glasgow   \n",
       "3 1875-03-06   England  Scotland           2           2   Friendly   London   \n",
       "4 1876-03-04  Scotland   England           3           0   Friendly  Glasgow   \n",
       "\n",
       "    country  neutral  \n",
       "0  Scotland    False  \n",
       "1   England    False  \n",
       "2  Scotland    False  \n",
       "3   England    False  \n",
       "4  Scotland    False  "
      ]
     },
     "execution_count": 305,
     "metadata": {},
     "output_type": "execute_result"
    }
   ],
   "source": [
    "international_results = pd.read_csv(\"results.csv\", parse_dates=[\"date\"])\n",
    "international_results.head(5)"
   ]
  },
  {
   "cell_type": "code",
   "execution_count": 307,
   "id": "ecf06e5c-ee7f-423f-8df3-e67ebd7ef981",
   "metadata": {},
   "outputs": [
    {
     "name": "stdout",
     "output_type": "stream",
     "text": [
      "Processed 5903 UEFA matches from 2000 onwards.\n"
     ]
    }
   ],
   "source": [
    "international_results = international_results[international_results[\"date\"].dt.year >= 2000]\n",
    "\n",
    "uefa_teams = [\n",
    "    \"Albania\", \"Andorra\", \"Armenia\", \"Austria\", \"Azerbaijan\", \"Belarus\", \"Belgium\", \"Bosnia and Herzegovina\",\n",
    "    \"Bulgaria\", \"Croatia\", \"Cyprus\", \"Czech Republic\", \"Denmark\", \"England\", \"Estonia\", \"Faroe Islands\",\n",
    "    \"Finland\", \"France\", \"Georgia\", \"Germany\", \"Gibraltar\", \"Greece\", \"Hungary\", \"Iceland\", \"Ireland\",\n",
    "    \"Israel\", \"Italy\", \"Kazakhstan\", \"Kosovo\", \"Latvia\", \"Liechtenstein\", \"Lithuania\", \"Luxembourg\",\n",
    "    \"Malta\", \"Moldova\", \"Monaco\", \"Montenegro\", \"Netherlands\", \"North Macedonia\", \"Northern Ireland\",\n",
    "    \"Norway\", \"Poland\", \"Portugal\", \"Romania\", \"Russia\", \"San Marino\", \"Scotland\", \"Serbia\", \"Slovakia\",\n",
    "    \"Slovenia\", \"Spain\", \"Sweden\", \"Switzerland\", \"Turkey\", \"Ukraine\", \"Wales\"\n",
    "]\n",
    "\n",
    "euro_matches = international_results[\n",
    "    international_results[\"home_team\"].isin(uefa_teams) &\n",
    "    international_results[\"away_team\"].isin(uefa_teams)\n",
    "]\n",
    "\n",
    "euro_matches = euro_matches.reset_index(drop=True)\n",
    "\n",
    "print(f\"Processed {len(euro_matches)} UEFA matches from 2000 onwards.\")"
   ]
  },
  {
   "cell_type": "code",
   "execution_count": 309,
   "id": "492b70e8-919f-4a8b-b301-37cc91262975",
   "metadata": {},
   "outputs": [],
   "source": [
    "def get_result(row):\n",
    "    if row['home_score'] > row['away_score']:\n",
    "        return 2\n",
    "    elif row['home_score'] < row['away_score']:\n",
    "        return 0\n",
    "    else:\n",
    "        return 1\n",
    "\n",
    "euro_matches['result'] = euro_matches.apply(get_result, axis=1)"
   ]
  },
  {
   "cell_type": "code",
   "execution_count": 311,
   "id": "c78426a0-b937-4512-97bb-143be5d02706",
   "metadata": {},
   "outputs": [],
   "source": [
    "K = 40\n",
    "team_elos = {}\n",
    "\n",
    "def get_elo(team):\n",
    "    return team_elos.get(team, 1500)\n",
    "\n",
    "home_elos = []\n",
    "away_elos = []\n",
    "\n",
    "for idx, row in euro_matches.iterrows():\n",
    "    home = row['home_team']\n",
    "    away = row['away_team']\n",
    "\n",
    "    R_home = get_elo(home)\n",
    "    R_away = get_elo(away)\n",
    "\n",
    "    home_elos.append(R_home)\n",
    "    away_elos.append(R_away)\n",
    "\n",
    "    home_score = row['home_score']\n",
    "    away_score = row['away_score']\n",
    "\n",
    "    E_home = 1 / (1 + 10 ** ((R_away - R_home) / 400))\n",
    "    E_away = 1 - E_home\n",
    "\n",
    "    if home_score > away_score:\n",
    "        S_home, S_away = 1, 0\n",
    "    elif home_score < away_score:\n",
    "        S_home, S_away = 0, 1\n",
    "    else:\n",
    "        S_home, S_away = 0.5, 0.5\n",
    "\n",
    "    R_home_new = R_home + K * (S_home - E_home)\n",
    "    R_away_new = R_away + K * (S_away - E_away)\n",
    "\n",
    "    team_elos[home] = R_home_new\n",
    "    team_elos[away] = R_away_new\n",
    "\n",
    "euro_matches['home_elo'] = home_elos\n",
    "euro_matches['away_elo'] = away_elos"
   ]
  },
  {
   "cell_type": "code",
   "execution_count": 313,
   "id": "810b3e67-37fe-41fd-956f-188a21933e6e",
   "metadata": {},
   "outputs": [],
   "source": [
    "euro_matches['elo_diff'] = euro_matches['home_elo'] - euro_matches['away_elo']\n",
    "euro_matches['elo_sum'] = euro_matches['home_elo'] + euro_matches['away_elo']\n",
    "euro_matches['neutral'] = euro_matches['neutral'].astype(int)  # Convert boolean to 0/1"
   ]
  },
  {
   "cell_type": "code",
   "execution_count": 315,
   "id": "534a03cd-b16b-4fef-842b-95d2f80443bb",
   "metadata": {},
   "outputs": [],
   "source": [
    "feature_cols = ['home_elo', 'away_elo', 'elo_diff', 'neutral']\n",
    "X = euro_matches[feature_cols]\n",
    "y = euro_matches['result']"
   ]
  },
  {
   "cell_type": "code",
   "execution_count": 317,
   "id": "a227291e-ad16-45b7-b99c-96f5987a7d02",
   "metadata": {},
   "outputs": [],
   "source": [
    "X_train, X_test, y_train, y_test = train_test_split(\n",
    "    X, y, test_size=0.2, stratify=y, random_state=42\n",
    ")"
   ]
  },
  {
   "cell_type": "code",
   "execution_count": 319,
   "id": "14cc77ab-8033-4dca-b92e-8c2f77e3b994",
   "metadata": {},
   "outputs": [
    {
     "name": "stdout",
     "output_type": "stream",
     "text": [
      "Logistic Regression:\n",
      "              precision    recall  f1-score   support\n",
      "\n",
      "           0       0.57      0.69      0.62       384\n",
      "           1       0.00      0.00      0.00       264\n",
      "           2       0.64      0.85      0.73       533\n",
      "\n",
      "    accuracy                           0.61      1181\n",
      "   macro avg       0.40      0.51      0.45      1181\n",
      "weighted avg       0.47      0.61      0.53      1181\n",
      "\n",
      "[[264   0 120]\n",
      " [123   0 141]\n",
      " [ 78   0 455]]\n"
     ]
    }
   ],
   "source": [
    "# Logistic Regression Baseline\n",
    "lr = LogisticRegression(max_iter=500, random_state=42)\n",
    "lr.fit(X_train, y_train)\n",
    "y_pred_lr = lr.predict(X_test)\n",
    "\n",
    "print(\"Logistic Regression:\")\n",
    "print(classification_report(y_test, y_pred_lr, zero_division=0))\n",
    "print(confusion_matrix(y_test, y_pred_lr))"
   ]
  },
  {
   "cell_type": "code",
   "execution_count": 321,
   "id": "9fbd8735-1a5a-4932-a53d-990261f5f71d",
   "metadata": {},
   "outputs": [
    {
     "name": "stdout",
     "output_type": "stream",
     "text": [
      "=== Logistic Regression with Class Weights ===\n",
      "              precision    recall  f1-score   support\n",
      "\n",
      "           0       0.59      0.61      0.60       384\n",
      "           1       0.27      0.33      0.30       264\n",
      "           2       0.75      0.64      0.69       533\n",
      "\n",
      "    accuracy                           0.56      1181\n",
      "   macro avg       0.54      0.53      0.53      1181\n",
      "weighted avg       0.59      0.56      0.57      1181\n",
      "\n",
      "[[234 108  42]\n",
      " [105  88  71]\n",
      " [ 59 132 342]]\n"
     ]
    }
   ],
   "source": [
    "class_weights = compute_class_weight(class_weight='balanced', classes=np.unique(y_train), y=y_train)\n",
    "class_weight_dict = dict(zip(np.unique(y_train), class_weights))\n",
    "\n",
    "baseline_model = LogisticRegression(max_iter=500, random_state=42, class_weight=class_weight_dict)\n",
    "baseline_model.fit(X_train, y_train)\n",
    "\n",
    "y_pred_baseline = baseline_model.predict(X_test)\n",
    "\n",
    "print(\"=== Logistic Regression with Class Weights ===\")\n",
    "print(classification_report(y_test, y_pred_baseline, zero_division=0))\n",
    "print(confusion_matrix(y_test, y_pred_baseline))"
   ]
  },
  {
   "cell_type": "code",
   "execution_count": 323,
   "id": "6d53e3cf-3347-4e67-9e69-3958c355d05e",
   "metadata": {},
   "outputs": [
    {
     "name": "stdout",
     "output_type": "stream",
     "text": [
      "result\n",
      "2    2134\n",
      "0    1534\n",
      "1    1054\n",
      "Name: count, dtype: int64\n"
     ]
    }
   ],
   "source": [
    "print(y_train.value_counts())#checks for class imbalance"
   ]
  },
  {
   "cell_type": "code",
   "execution_count": 325,
   "id": "eea50b6b-9fe3-47a3-9dde-99cc70a57b16",
   "metadata": {},
   "outputs": [
    {
     "name": "stdout",
     "output_type": "stream",
     "text": [
      "XGBoost:\n",
      "              precision    recall  f1-score   support\n",
      "\n",
      "           0       0.55      0.56      0.55       384\n",
      "           1       0.29      0.19      0.23       264\n",
      "           2       0.64      0.74      0.68       533\n",
      "\n",
      "    accuracy                           0.56      1181\n",
      "   macro avg       0.49      0.49      0.49      1181\n",
      "weighted avg       0.53      0.56      0.54      1181\n",
      "\n",
      "[[216  59 109]\n",
      " [ 99  49 116]\n",
      " [ 81  60 392]]\n"
     ]
    }
   ],
   "source": [
    "#XGBoost\n",
    "xgb = XGBClassifier(\n",
    "    objective='multi:softprob',\n",
    "    num_class=3,\n",
    "    eval_metric='mlogloss',\n",
    "    random_state=42,\n",
    ")\n",
    "xgb.fit(X_train, y_train)\n",
    "y_pred_xgb = xgb.predict(X_test)\n",
    "\n",
    "print(\"XGBoost:\")\n",
    "print(classification_report(y_test, y_pred_xgb))\n",
    "print(confusion_matrix(y_test, y_pred_xgb))"
   ]
  },
  {
   "cell_type": "code",
   "execution_count": 327,
   "id": "b3b53163-23b6-4398-a97b-7cd3686ea2b3",
   "metadata": {},
   "outputs": [
    {
     "name": "stdout",
     "output_type": "stream",
     "text": [
      "XGBoost with Class Weights:\n",
      "              precision    recall  f1-score   support\n",
      "\n",
      "           0       0.53      0.54      0.54       384\n",
      "           1       0.27      0.32      0.29       264\n",
      "           2       0.70      0.62      0.66       533\n",
      "\n",
      "    accuracy                           0.53      1181\n",
      "   macro avg       0.50      0.49      0.50      1181\n",
      "weighted avg       0.55      0.53      0.54      1181\n",
      "\n",
      "[[208 111  65]\n",
      " [105  85  74]\n",
      " [ 79 123 331]]\n"
     ]
    }
   ],
   "source": [
    "sample_weights = compute_sample_weight(class_weight='balanced', y=y_train)\n",
    "\n",
    "xgb = XGBClassifier(\n",
    "    objective='multi:softprob',\n",
    "    num_class=3,\n",
    "    eval_metric='mlogloss',\n",
    "    random_state=42,\n",
    ")\n",
    "\n",
    "xgb.fit(X_train, y_train, sample_weight=sample_weights)\n",
    "y_pred_xgb = xgb.predict(X_test)\n",
    "\n",
    "print(\"XGBoost with Class Weights:\")\n",
    "print(classification_report(y_test, y_pred_xgb, zero_division=0))\n",
    "print(confusion_matrix(y_test, y_pred_xgb))"
   ]
  },
  {
   "cell_type": "code",
   "execution_count": 329,
   "id": "957585d5-152d-4533-ae02-61614953a45b",
   "metadata": {},
   "outputs": [
    {
     "name": "stderr",
     "output_type": "stream",
     "text": [
      "/opt/anaconda3/lib/python3.11/site-packages/seaborn/_oldcore.py:1765: FutureWarning: unique with argument that is not not a Series, Index, ExtensionArray, or np.ndarray is deprecated and will raise in a future version.\n",
      "  order = pd.unique(vector)\n"
     ]
    },
    {
     "data": {
      "image/png": "[encoded data removed]",
      "text/plain": [
       "<Figure size 800x500 with 1 Axes>"
      ]
     },
     "metadata": {},
     "output_type": "display_data"
    }
   ],
   "source": [
    "class_counts = euro_matches['result'].value_counts().sort_index()\n",
    "class_labels = ['Away Win (0)', 'Draw (1)', 'Home Win (2)']\n",
    "\n",
    "plt.figure(figsize=(8, 5))\n",
    "sns.barplot(x=class_labels, y=class_counts.values, palette='Set2')\n",
    "plt.title('Class Distribution of Match Results')\n",
    "plt.ylabel('Number of Matches')\n",
    "plt.xlabel('Match Outcome')\n",
    "plt.tight_layout()\n",
    "plt.show()"
   ]
  },
  {
   "cell_type": "code",
   "execution_count": 331,
   "id": "94de64b8-cb25-459c-9f98-0fe4179acb37",
   "metadata": {},
   "outputs": [
    {
     "data": {
      "image/png": "[encoded data removed]",
      "text/plain": [
       "<Figure size 600x500 with 2 Axes>"
      ]
     },
     "metadata": {},
     "output_type": "display_data"
    }
   ],
   "source": [
    "cm = confusion_matrix(y_test, y_pred_xgb)\n",
    "labels = ['Away Win (0)', 'Draw (1)', 'Home Win (2)']\n",
    "\n",
    "plt.figure(figsize=(6, 5))\n",
    "sns.heatmap(cm, annot=True, fmt='d', cmap='Blues', xticklabels=labels, yticklabels=labels)\n",
    "plt.title('Confusion Matrix - XGBoost')\n",
    "plt.xlabel('Predicted')\n",
    "plt.ylabel('Actual')\n",
    "plt.tight_layout()\n",
    "plt.show()"
   ]
  },
  {
   "cell_type": "code",
   "execution_count": 333,
   "id": "43baf650-690c-4994-9df9-616bb96c9cac",
   "metadata": {},
   "outputs": [
    {
     "data": {
      "image/png": "[encoded data removed]",
      "text/plain": [
       "<Figure size 1000x600 with 1 Axes>"
      ]
     },
     "metadata": {},
     "output_type": "display_data"
    }
   ],
   "source": [
    "importances = xgb.feature_importances_\n",
    "feature_names = X_train.columns\n",
    "\n",
    "plt.figure(figsize=(10, 6))\n",
    "sns.barplot(x=importances, y=feature_names)\n",
    "plt.title(\"Feature Importance (XGBoost)\")\n",
    "plt.xlabel(\"Importance\")\n",
    "plt.ylabel(\"Feature\")\n",
    "plt.tight_layout()\n",
    "plt.show()"
   ]
  }
 ],
 "metadata": {
  "kernelspec": {
   "display_name": "Python 3 (ipykernel)",
   "language": "python",
   "name": "python3"
  },
  "language_info": {
   "codemirror_mode": {
    "name": "ipython",
    "version": 3
   },
   "file_extension": ".py",
   "mimetype": "text/x-python",
   "name": "python",
   "nbconvert_exporter": "python",
   "pygments_lexer": "ipython3",
   "version": "3.11.7"
  }
 },
 "nbformat": 4,
 "nbformat_minor": 5
}
