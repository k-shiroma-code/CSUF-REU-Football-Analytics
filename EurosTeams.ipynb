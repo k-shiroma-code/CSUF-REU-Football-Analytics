{
 "cells": [
  {
   "cell_type": "code",
   "execution_count": 3,
   "id": "8115c175-a155-46e3-9c21-6e423ed9043a",
   "metadata": {},
   "outputs": [],
   "source": [
    "import pandas as pd\n",
    "import numpy as np\n",
    "import matplotlib.pyplot as plt\n",
    "import seaborn as sns\n",
    "import os"
   ]
  },
  {
   "cell_type": "code",
   "execution_count": 5,
   "id": "cb8eb085-7086-4022-b2c9-cba7db807e69",
   "metadata": {},
   "outputs": [],
   "source": [
    "#load dataset\n",
    "file_path = \"combined_euros_1996_2024.csv\" \n",
    "df = pd.read_csv(file_path)"
   ]
  },
  {
   "cell_type": "code",
   "execution_count": 7,
   "id": "b1cf926b-e7c8-401b-bda4-af0181ea6e4d",
   "metadata": {},
   "outputs": [
    {
     "name": "stdout",
     "output_type": "stream",
     "text": [
      "   id_match home_team away_team home_team_code away_team_code  home_score  \\\n",
      "0     52917   Czechia   Germany            CZE            GER         1.0   \n",
      "1     52916   Germany   England            GER            ENG         1.0   \n",
      "2     52915    France   Czechia            FRA            CZE         0.0   \n",
      "3     52914   Czechia  Portugal            CZE            POR         1.0   \n",
      "4     52913   Germany   Croatia            GER            CRO         2.0   \n",
      "\n",
      "   away_score  home_penalty  away_penalty  home_score_total  ...  \\\n",
      "0         1.0           NaN           NaN               1.0  ...   \n",
      "1         1.0           6.0           5.0               1.0  ...   \n",
      "2         0.0           5.0           6.0               0.0  ...   \n",
      "3         0.0           NaN           NaN               1.0  ...   \n",
      "4         1.0           NaN           NaN               2.0  ...   \n",
      "\n",
      "   stadium_name_media stadium_name_official stadium_name_event  \\\n",
      "0             Wembley         Wembley (old)      Wembley (old)   \n",
      "1             Wembley         Wembley (old)      Wembley (old)   \n",
      "2        Old Trafford          Old Trafford       Old Trafford   \n",
      "3          Villa Park            Villa Park         Villa Park   \n",
      "4        Old Trafford          Old Trafford       Old Trafford   \n",
      "\n",
      "   stadium_name_sponsor                                       home_lineups  \\\n",
      "0         Wembley (old)  [{'country_code': 'CZE', 'name': 'Václav Němeč...   \n",
      "1         Wembley (old)  [{'country_code': 'GER', 'name': 'Marco Bode',...   \n",
      "2          Old Trafford  [{'country_code': 'FRA', 'name': 'Jocelyn Angl...   \n",
      "3            Villa Park  [{'country_code': 'CZE', 'name': 'Radek Drulák...   \n",
      "4          Old Trafford  [{'country_code': 'GER', 'name': 'Thomas Hässl...   \n",
      "\n",
      "                                        away_lineups  \\\n",
      "0  [{'country_code': 'GER', 'name': 'Marco Bode',...   \n",
      "1  [{'country_code': 'ENG', 'name': 'Tim Flowers'...   \n",
      "2  [{'country_code': 'CZE', 'name': 'Martin Frýde...   \n",
      "3  [{'country_code': 'POR', 'name': 'Paulinho San...   \n",
      "4  [{'country_code': 'CRO', 'name': 'Robert Prosi...   \n",
      "\n",
      "                                        home_coaches  \\\n",
      "0  [{'country_code': 'CZE', 'country': 'Czechia',...   \n",
      "1  [{'country_code': 'GER', 'country': 'Germany',...   \n",
      "2  [{'country_code': 'FRA', 'country': 'France', ...   \n",
      "3                                                 []   \n",
      "4  [{'country_code': 'GER', 'country': 'Germany',...   \n",
      "\n",
      "                                        away_coaches  \\\n",
      "0  [{'country_code': 'GER', 'country': 'Germany',...   \n",
      "1  [{'country_code': 'ENG', 'country': 'England',...   \n",
      "2  [{'country_code': 'CZE', 'country': 'Czechia',...   \n",
      "3                                                 []   \n",
      "4  [{'country_code': 'CRO', 'country': 'Croatia',...   \n",
      "\n",
      "                                              events  Year  \n",
      "0  [{'id': '32925', 'phase': 'EXTRA_TIME_FIRST_HA...  1996  \n",
      "1  [{'id': '306743', 'phase': 'PENALTY', 'type': ...  1996  \n",
      "2  [{'id': '2710', 'phase': 'PENALTY', 'type': 'P...  1996  \n",
      "3  [{'id': '82916', 'phase': 'SECOND_HALF', 'type...  1996  \n",
      "4  [{'id': '82925', 'phase': 'SECOND_HALF', 'type...  1996  \n",
      "\n",
      "[5 rows x 53 columns]\n"
     ]
    }
   ],
   "source": [
    "print(df.head())  "
   ]
  },
  {
   "cell_type": "code",
   "execution_count": 12,
   "id": "121571eb-05bd-479e-b941-69092671902d",
   "metadata": {},
   "outputs": [
    {
     "name": "stdout",
     "output_type": "stream",
     "text": [
      "              Team Name  Encoded Value\n",
      "0               Albania              0\n",
      "1               Austria              1\n",
      "2               Belgium              2\n",
      "3              Bulgaria              3\n",
      "4               Croatia              4\n",
      "5               Czechia              5\n",
      "6               Denmark              6\n",
      "7               England              7\n",
      "8               Finland              8\n",
      "9                France              9\n",
      "10              Georgia             10\n",
      "11              Germany             11\n",
      "12               Greece             12\n",
      "13              Hungary             13\n",
      "14              Iceland             14\n",
      "15                Italy             15\n",
      "16               Latvia             16\n",
      "17          Netherlands             17\n",
      "18      North Macedonia             18\n",
      "19     Northern Ireland             19\n",
      "20               Norway             20\n",
      "21               Poland             21\n",
      "22             Portugal             22\n",
      "23  Republic of Ireland             23\n",
      "24              Romania             24\n",
      "25               Russia             25\n",
      "26             Scotland             26\n",
      "27               Serbia             27\n",
      "28             Slovakia             28\n",
      "29             Slovenia             29\n",
      "30                Spain             30\n",
      "31               Sweden             31\n",
      "32          Switzerland             32\n",
      "33              Türkiye             33\n",
      "34              Ukraine             34\n",
      "35                Wales             35\n",
      "36           Yugoslavia             36\n"
     ]
    }
   ],
   "source": [
    "#extract unique teams before encoding\n",
    "unique_teams = pd.concat([df['home_team'], df['away_team']]).unique()\n",
    "\n",
    "#create a mapping of team names to encoded values\n",
    "team_mapping = {team: idx for idx, team in enumerate(sorted(unique_teams))}\n",
    "\n",
    "#convert mapping to a df\n",
    "team_mapping_df = pd.DataFrame(list(team_mapping.items()), columns=['Team Name', 'Encoded Value'])\n",
    "\n",
    "#display teams in order of encoded values\n",
    "print(team_mapping_df.sort_values(by='Encoded Value'))"
   ]
  }
 ],
 "metadata": {
  "kernelspec": {
   "display_name": "Python 3 (ipykernel)",
   "language": "python",
   "name": "python3"
  },
  "language_info": {
   "codemirror_mode": {
    "name": "ipython",
    "version": 3
   },
   "file_extension": ".py",
   "mimetype": "text/x-python",
   "name": "python",
   "nbconvert_exporter": "python",
   "pygments_lexer": "ipython3",
   "version": "3.11.7"
  }
 },
 "nbformat": 4,
 "nbformat_minor": 5
}
